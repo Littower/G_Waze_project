{
 "cells": [
  {
   "cell_type": "markdown",
   "id": "294a06ca-9a19-4518-a223-53163d85f639",
   "metadata": {},
   "source": [
    "## **PACE: Plan Stage**\n",
    "\n",
    "**What is the main purpose of this project?**\n",
    "The purpose of this project is to demonstrate knowledge of how to conduct a two-sample hypothesis test and apply descriptive statistics using Python to analyze real-world data.\n",
    "\n",
    "**What is your research question for this project?**\n",
    "\"Do drivers who open the application using an iPhone have the same number of drives on average as drivers who use Android devices?\"\n",
    "\n",
    "**What is the importance of random sampling?**\n",
    "Random sampling helps ensure that the sample data accurately represents the population, reducing bias and increasing the reliability and generalizability of the results.\n",
    "\n",
    "**Give an example of sampling bias that might occur if you didn’t use random sampling.**\n",
    "If we only collected data from users who drive during morning rush hour, we might miss patterns in driving behavior from those who drive at night, creating bias in our conclusions about average drives."
   ]
  },
  {
   "cell_type": "markdown",
   "id": "0f6e66b5-cb7d-4267-bc5e-3de32cc90aff",
   "metadata": {},
   "source": [
    "### **Task 1. Imports and data loading**\n",
    "\n",
    "Import packages and libraries needed to compute descriptive statistics and conduct a hypothesis test."
   ]
  },
  {
   "cell_type": "code",
   "execution_count": 3,
   "id": "1cd281c1-4bfa-4d2c-83f9-0bddf066611d",
   "metadata": {},
   "outputs": [],
   "source": [
    "# Import any relevant packages or libraries\n",
    "import numpy as np\n",
    "import pandas as pd\n",
    "from scipy import stats"
   ]
  },
  {
   "cell_type": "code",
   "execution_count": 4,
   "id": "03e595cc-e559-4e52-924e-4ea4d2c7195f",
   "metadata": {},
   "outputs": [],
   "source": [
    "# Load the dataset\n",
    "df = pd.read_csv(r'D:\\5B. Google_Advanced_data_analysis\\training_project_data\\waze_dataset.csv')"
   ]
  },
  {
   "cell_type": "markdown",
   "id": "3ef112fa-4742-4368-8675-dc8ea9377854",
   "metadata": {},
   "source": [
    "### **Task 2. Data exploration**\n",
    "In the dataset, `device` is a categorical variable with the labels `iPhone` and `Android`.\n",
    "\n",
    "In order to perform this analysis, you must turn each label into an integer. The following code assigns a 1 for an `iPhone` user and a 2 for `Android`. It assigns this label back to the variable `device_new`.\n",
    "\n",
    "Creating a new variable is ideal so that you don't overwrite original data.\n",
    "    \n",
    "1.Create a dictionary called `map_dictionary` that contains the class labels ('Android' and 'iPhone') for keys and the values you want to convert them to (2 and 1) as values.\n",
    "    \n",
    "2.Create a new column called `device_type` that is a copy of the `device` column.\n",
    "\n",
    "3.Use the `map()` method on the `device_type` series. Pass `map_dictionary` as its argument. Reassign the result back to the `device_type` series. When you pass a dictionary to the `Series.map()` method, it will replace the data in the series where that data matches the dictionary's keys. The values that get imputed are the values of the dictionary."
   ]
  },
  {
   "cell_type": "code",
   "execution_count": 6,
   "id": "6eb6cfa7-3dc4-4260-a056-6d3648785a67",
   "metadata": {},
   "outputs": [
    {
     "data": {
      "text/html": [
       "<div>\n",
       "<style scoped>\n",
       "    .dataframe tbody tr th:only-of-type {\n",
       "        vertical-align: middle;\n",
       "    }\n",
       "\n",
       "    .dataframe tbody tr th {\n",
       "        vertical-align: top;\n",
       "    }\n",
       "\n",
       "    .dataframe thead th {\n",
       "        text-align: right;\n",
       "    }\n",
       "</style>\n",
       "<table border=\"1\" class=\"dataframe\">\n",
       "  <thead>\n",
       "    <tr style=\"text-align: right;\">\n",
       "      <th></th>\n",
       "      <th>ID</th>\n",
       "      <th>label</th>\n",
       "      <th>sessions</th>\n",
       "      <th>drives</th>\n",
       "      <th>total_sessions</th>\n",
       "      <th>n_days_after_onboarding</th>\n",
       "      <th>total_navigations_fav1</th>\n",
       "      <th>total_navigations_fav2</th>\n",
       "      <th>driven_km_drives</th>\n",
       "      <th>duration_minutes_drives</th>\n",
       "      <th>activity_days</th>\n",
       "      <th>driving_days</th>\n",
       "      <th>device</th>\n",
       "      <th>device_type</th>\n",
       "    </tr>\n",
       "  </thead>\n",
       "  <tbody>\n",
       "    <tr>\n",
       "      <th>0</th>\n",
       "      <td>0</td>\n",
       "      <td>retained</td>\n",
       "      <td>283</td>\n",
       "      <td>226</td>\n",
       "      <td>296.748273</td>\n",
       "      <td>2276</td>\n",
       "      <td>208</td>\n",
       "      <td>0</td>\n",
       "      <td>2628.845068</td>\n",
       "      <td>1985.775061</td>\n",
       "      <td>28</td>\n",
       "      <td>19</td>\n",
       "      <td>Android</td>\n",
       "      <td>2</td>\n",
       "    </tr>\n",
       "    <tr>\n",
       "      <th>1</th>\n",
       "      <td>1</td>\n",
       "      <td>retained</td>\n",
       "      <td>133</td>\n",
       "      <td>107</td>\n",
       "      <td>326.896596</td>\n",
       "      <td>1225</td>\n",
       "      <td>19</td>\n",
       "      <td>64</td>\n",
       "      <td>13715.920550</td>\n",
       "      <td>3160.472914</td>\n",
       "      <td>13</td>\n",
       "      <td>11</td>\n",
       "      <td>iPhone</td>\n",
       "      <td>1</td>\n",
       "    </tr>\n",
       "    <tr>\n",
       "      <th>2</th>\n",
       "      <td>2</td>\n",
       "      <td>retained</td>\n",
       "      <td>114</td>\n",
       "      <td>95</td>\n",
       "      <td>135.522926</td>\n",
       "      <td>2651</td>\n",
       "      <td>0</td>\n",
       "      <td>0</td>\n",
       "      <td>3059.148818</td>\n",
       "      <td>1610.735904</td>\n",
       "      <td>14</td>\n",
       "      <td>8</td>\n",
       "      <td>Android</td>\n",
       "      <td>2</td>\n",
       "    </tr>\n",
       "    <tr>\n",
       "      <th>3</th>\n",
       "      <td>3</td>\n",
       "      <td>retained</td>\n",
       "      <td>49</td>\n",
       "      <td>40</td>\n",
       "      <td>67.589221</td>\n",
       "      <td>15</td>\n",
       "      <td>322</td>\n",
       "      <td>7</td>\n",
       "      <td>913.591123</td>\n",
       "      <td>587.196542</td>\n",
       "      <td>7</td>\n",
       "      <td>3</td>\n",
       "      <td>iPhone</td>\n",
       "      <td>1</td>\n",
       "    </tr>\n",
       "    <tr>\n",
       "      <th>4</th>\n",
       "      <td>4</td>\n",
       "      <td>retained</td>\n",
       "      <td>84</td>\n",
       "      <td>68</td>\n",
       "      <td>168.247020</td>\n",
       "      <td>1562</td>\n",
       "      <td>166</td>\n",
       "      <td>5</td>\n",
       "      <td>3950.202008</td>\n",
       "      <td>1219.555924</td>\n",
       "      <td>27</td>\n",
       "      <td>18</td>\n",
       "      <td>Android</td>\n",
       "      <td>2</td>\n",
       "    </tr>\n",
       "  </tbody>\n",
       "</table>\n",
       "</div>"
      ],
      "text/plain": [
       "   ID     label  sessions  drives  total_sessions  n_days_after_onboarding  \\\n",
       "0   0  retained       283     226      296.748273                     2276   \n",
       "1   1  retained       133     107      326.896596                     1225   \n",
       "2   2  retained       114      95      135.522926                     2651   \n",
       "3   3  retained        49      40       67.589221                       15   \n",
       "4   4  retained        84      68      168.247020                     1562   \n",
       "\n",
       "   total_navigations_fav1  total_navigations_fav2  driven_km_drives  \\\n",
       "0                     208                       0       2628.845068   \n",
       "1                      19                      64      13715.920550   \n",
       "2                       0                       0       3059.148818   \n",
       "3                     322                       7        913.591123   \n",
       "4                     166                       5       3950.202008   \n",
       "\n",
       "   duration_minutes_drives  activity_days  driving_days   device  device_type  \n",
       "0              1985.775061             28            19  Android            2  \n",
       "1              3160.472914             13            11   iPhone            1  \n",
       "2              1610.735904             14             8  Android            2  \n",
       "3               587.196542              7             3   iPhone            1  \n",
       "4              1219.555924             27            18  Android            2  "
      ]
     },
     "execution_count": 6,
     "metadata": {},
     "output_type": "execute_result"
    }
   ],
   "source": [
    "# 1. Create `map_dictionary`\n",
    "map_dictionary = {'iPhone': 1,'Android': 2}\n",
    "\n",
    "# 2. Create new `device_type` column\n",
    "df['device_type'] = df['device']\n",
    "\n",
    "# 3. Map the new column to the dictionary\n",
    "df['device_type'] = df['device_type'].map(map_dictionary)\n",
    "\n",
    "df.head()"
   ]
  },
  {
   "cell_type": "markdown",
   "id": "5c7a4251-b3c4-4033-ac39-3a0a26e65061",
   "metadata": {},
   "source": [
    "You are interested in the relationship between device type and the number of drives. One approach is to look at the average number of drives for each device type. Calculate these averages."
   ]
  },
  {
   "cell_type": "code",
   "execution_count": 8,
   "id": "ffc336f8-d594-4ad8-9fc0-d5c9a9200bf8",
   "metadata": {},
   "outputs": [
    {
     "data": {
      "text/plain": [
       "device_type\n",
       "1    67.859078\n",
       "2    66.231838\n",
       "Name: drives, dtype: float64"
      ]
     },
     "execution_count": 8,
     "metadata": {},
     "output_type": "execute_result"
    }
   ],
   "source": [
    "df.groupby('device_type').mean(numeric_only=True)['drives']"
   ]
  },
  {
   "cell_type": "markdown",
   "id": "5c084cfd-7aeb-48f1-8151-4be8ae6ea5b6",
   "metadata": {},
   "source": [
    "Based on the averages shown, it appears that drivers who use an iPhone device to interact with the application have a higher number of drives on average. However, this difference might arise from random sampling, rather than being a true difference in the number of drives. To assess whether the difference is statistically significant, you can conduct a hypothesis test."
   ]
  },
  {
   "cell_type": "markdown",
   "id": "ca108615-b249-42a1-b292-a6b3e992db5e",
   "metadata": {},
   "source": [
    "## **PACE: Analyze & Construct Stages**\n",
    "\n",
    "**In general, why are descriptive statistics useful?**\n",
    "Descriptive statistics are useful because they summarize and organize large datasets, allowing us to quickly understand patterns, trends, and key metrics such as means and standard deviations.\n",
    "\n",
    "**How did computing descriptive statistics help you analyze your data?**\n",
    "Computing descriptive statistics helped compare the average number of drives between iPhone and Android users, offering initial insight into whether a difference exists and guiding the need for further statistical testing.\n",
    "\n",
    "**In hypothesis testing, what is the difference between the null hypothesis and the alternative hypothesis?**\n",
    "The null hypothesis (H0) assumes there is no effect or difference, while the alternative hypothesis (HA) suggests there is a statistically significant effect or difference.\n",
    "\n",
    "**How did you formulate your null hypothesis and alternative hypothesis?**\n",
    "\n",
    "    H0: There is no difference in the average number of drives between iPhone and Android users.\n",
    "    \n",
    "    HA: There is a difference in the average number of drives between iPhone and Android users.\n",
    "\n",
    "**What conclusion can be drawn from the hypothesis test?**\n",
    "Since the p-value (0.143) is greater than the significance level of 0.05, the null hypothesis cannot be rejected. This suggests that there is no statistically significant difference in the average number of drives between iPhone and Android users."
   ]
  },
  {
   "cell_type": "markdown",
   "id": "abbbbdfe-ed1b-433f-992a-be363b165a9a",
   "metadata": {},
   "source": [
    "## **Task 3. Hypothesis testing**\n",
    "    1. State the null hypothesis and the alternative hypothesis\n",
    "    2. Choose a signficance level\n",
    "    3. Find the p-value\n",
    "    4. Reject or fail to reject the null hypothesis\n",
    "\n",
    "Recall the difference between the null hypothesis (H0) and the alternative hypothesis (HA).\n",
    "\n",
    "**Question:** What are your hypotheses for this data project?\n",
    "\n",
    "H0 : There is no difference in average number of drives between drivers who use iPhone devices and drivers who use Androids.\n",
    "\n",
    "HA: There is a difference in average number of drives between drivers who use iPhone devices and drivers who use Androids.\n",
    "\n",
    "Taking 5% as the significance level and proceed with a two-sample t-test.\n",
    "\n",
    "1. Isolate the `drives` column for iPhone users.\n",
    "2. Isolate the `drives` column for Android users.\n",
    "3. Perform the t-test"
   ]
  },
  {
   "cell_type": "code",
   "execution_count": 12,
   "id": "89f528b3-139a-430a-9d21-420feb55a919",
   "metadata": {},
   "outputs": [
    {
     "data": {
      "text/plain": [
       "TtestResult(statistic=1.463523206885235, pvalue=0.143351972680206, df=11345.066049381952)"
      ]
     },
     "execution_count": 12,
     "metadata": {},
     "output_type": "execute_result"
    }
   ],
   "source": [
    "# 1. Isolate the `drives` column for iPhone users.\n",
    "iPhone_drives = df[df['device_type'] == 1]['drives']\n",
    "\n",
    "# 2. Isolate the `drives` column for Android users.\n",
    "android_drives = df[df['device_type'] == 2]['drives']\n",
    "\n",
    "# 3. Perform the t-test\n",
    "stats.ttest_ind(a=iPhone_drives, b=android_drives, equal_var=False)"
   ]
  },
  {
   "cell_type": "markdown",
   "id": "52ff69c4-b257-41b6-bca9-be9ed71617ea",
   "metadata": {},
   "source": [
    "*Since p-value is 0.143, which is larger than the significant level (0.05), the null hypothesis cannot be rejected. This indicates that there is no statistically significant difference between iPhone users and Android users in terms of the occurrence of driving at least 1 km during the month.*"
   ]
  },
  {
   "cell_type": "markdown",
   "id": "7347c59b-a411-42d8-b135-bd405c024110",
   "metadata": {},
   "source": [
    "## **PACE: Execute Stage**\n",
    "\n",
    "**What key business or organizational insight(s) emerged from your A/B test?**\n",
    "There is no statistically significant difference in the number of drives between users based on their device type. This implies that the Waze app provides a similar user experience and engagement level for both iPhone and Android users.\n",
    "\n",
    "**What recommendations do you propose based on your results?**\n",
    "Waze does not need to focus optimization efforts based solely on device type. Instead, future analysis should investigate other variables that may affect driving behavior and churn, such as onboarding time, usage frequency, or driving patterns. Additional A/B tests could be conducted on feature changes or UI updates to improve engagement across all user segments."
   ]
  }
 ],
 "metadata": {
  "kernelspec": {
   "display_name": "Python [conda env:base] *",
   "language": "python",
   "name": "conda-base-py"
  },
  "language_info": {
   "codemirror_mode": {
    "name": "ipython",
    "version": 3
   },
   "file_extension": ".py",
   "mimetype": "text/x-python",
   "name": "python",
   "nbconvert_exporter": "python",
   "pygments_lexer": "ipython3",
   "version": "3.12.7"
  }
 },
 "nbformat": 4,
 "nbformat_minor": 5
}
